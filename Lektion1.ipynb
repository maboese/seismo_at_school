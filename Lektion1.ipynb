{
  "cells": [
    {
      "cell_type": "markdown",
      "metadata": {
        "id": "Nk9jy-ByDTj0"
      },
      "source": [
        "# **ERDBEBEN - Wo und Warum ?**\n",
        "Willkommen zum Jupyter-Notebook \"*Erdbeben - Wo und warum ?*\" welches im Rahmen des *seismo-at-school* Projektes am Schweizerischen Erdbebendienst ([SED](http://seismo.ethz.ch/de/home/)) an der ETH Zürich, der Universität Lausanne und dem CPPS in Sion entwickelt wurde.\n",
        "\n",
        "---\n",
        "---\n",
        "\n",
        "Um den nachfolgenden Python-Code auszuführen, gehe auf die Menuleiste oben und klicke unter Menupunkt **\"Laufzeit\" (engl. \"Runtime\")** zunächst **\"Alle ausführen (engl. \"Run all\")\"** und dann **\"Sitzung neustarten und alle ausführen\" (engl. \"Restart session and run all\")**\".\n",
        "\n",
        "Du solltest nach einigen Sekunden unten Ergebnisse sehen. Du kannst einzelne Parameter, wie zum Beispiel die minimale Magnitude, ändern und den Code erneut ausführen. **Bitte klicke dazu jeweils auf den Pfeil oben links in der jeweiligen grauen Box.**\n",
        "\n",
        "Viel Spass!\n",
        "\n",
        "\n",
        "\n",
        "**to do (internal notes):**\n",
        "\n",
        "Irina: Du verweist ja, auf eine externe Abbildung mit den Plattengrenzen. Allenfalls könnten wir eine interne entwickeln und auf diese verweisen.\n",
        "Fred:\n",
        "(1) the magic ! commands that might install what’s missing but won’t try to import again after installing missing deps; Define depends in a requirement file in a way that binder setup the right environment before running the notebook, follow instructions here : https://the-turing-way.netlify.app/communication/binder/zero-to-binder.html#pinning-dependencies\n",
        "\n",
        "(2) I recommend that you put all your notebooks in GitHub and add a link in its README so people can directly open in https://mybinder.org/ (check out the nice badge that can be customised and added to your readme and notebook).\n",
        "\n",
        "(3) Also I suggest avoiding google and prefer Jupyter’s binder."
      ]
    },
    {
      "cell_type": "code",
      "execution_count": null,
      "metadata": {
        "id": "VN8wkn677Og7",
        "cellView": "form"
      },
      "outputs": [],
      "source": [
        "# @title\n",
        "import warnings\n",
        "warnings.filterwarnings(\"ignore\")\n",
        "try:\n",
        "    import obspy\n",
        "except:\n",
        "    !pip install obspy | grep -v 'already satisfied'\n",
        "\n",
        "import numpy as np\n",
        "from obspy.clients.fdsn import Client\n",
        "import matplotlib.pyplot as plt\n"
      ]
    },
    {
      "cell_type": "markdown",
      "metadata": {
        "id": "rP0g54ngGUG6"
      },
      "source": [
        "# **1. Erdbeben Weltweit**\n",
        "\n",
        "Seismometer zeichnen Erschütterungen von Erdbeben auf der ganzen Welt auf. Die Magnituden (= Stärke) und Orte der Erdbeben werden in **Erdbebenkatalogen** gesammelt und von Seismologen und Seismologinnen ausgewertet. Versuche es auch einmal!\n",
        "\n",
        "\n",
        "## **Aufgaben:**\n",
        "Wähle im Feld unten ein beliebiges Jahr (z. B. *year* = 2023) und suche im Erdbebenkatalog nach Erdbeben, die sich in diesem Jahr irgendwo auf der Welt ereignet haben.\n",
        "\n",
        "1.   Setze die minimale Magnitude (*minmag*) für Deine Katalog-Suche auf **5.0**. Starte den Code durch Drücken der Pfeiltaste (links) und schaue Dir die **Erdbebenverteilung** auf der Weltkarte an. Was fällt Dir auf? Sind Erdbeben gleichmässig über die Erde verteilt? Vergleiche zum Beispiel mit dieser [Abbildung](https://www.eskp.de/grundlagen/naturgefahren/plattentektonik-und-vulkanismus-935407/).\n",
        "2.   Die Magnitude misst die Stärke eines Erdbebens. **Wieviele Erdbeben im Jahr 2023** hatten eine\n",
        "  *  **Magnitude von 5.0 bis 6.0**\n",
        "  *  **Magnitude von 6.0 bis 7.0**\n",
        "  *  **Magnitude von 7.0 bis 8.0**\n",
        "\n",
        "  und **wieviel Energie** haben sie jeweils freigesetzt? Stelle Deine Ergebnisse (Anzahl der Erdbeben pro Magnitudeninterval) mit Hilfe eines Säulendiagramms auf einem Blatt Papier dar. Schreibe oberhalb jeder Säule die **freigesetzte Energie**. Was fällt Dir auf ? Zum Vergleich: Die Atombombe von Hiroshima hatte eine Sprengkraft von etwa 13.000 Tonnen TNT*. (*Das TNT-Äquivalent ist eine gebräuchliche Maßeinheit für die bei einer Explosion freigesetzte Energie.)\n",
        "  \n",
        "3. Welches war weltweit das **grösste Erdbeben im Jahr 2023**, wie stark war es und wo hat es sich ereignet ? Suche im Internet nach zusätzlichen Informationen.\n"
      ]
    },
    {
      "cell_type": "code",
      "source": [
        "# Diese Parameter kannst Du ändern:\n",
        "year   = 2023\n",
        "minmag = 5.0"
      ],
      "metadata": {
        "id": "GuKwY8D1mHWk"
      },
      "execution_count": null,
      "outputs": []
    },
    {
      "cell_type": "code",
      "source": [
        "# @title\n",
        "# Diesen Code solltest Du nicht verändern:\n",
        "\n",
        "maxmag = minmag + 1\n",
        "\n",
        "try:\n",
        "  if minmag>=5.0 and year>=1950:\n",
        "    cat = Client(\"IRIS\").get_events(minmag=minmag, maxmag=maxmag,\n",
        "                                    starttime=obspy.UTCDateTime(str(year) + \"-01-01T00:00\"),\n",
        "                                    endtime=obspy.UTCDateTime(str(year+1) + \"-01-01T00:00\"))\n",
        "\n",
        "    energy_joule = 0\n",
        "    for event in cat:\n",
        "      energy_joule += pow(10,5.24 + (1.44 * event.magnitudes[0].mag))\n",
        "    energy_tnt = energy_joule/(4.184 * pow(10,12)) #1 kT (Kilotonne TNT) = 1 · 1012 cal = 4.184 · 10**12 J\n",
        "\n",
        "    print(\"Ich habe \" + str(len(cat)) +\" Erdbeben mit einer Magnitude zwischen \"\n",
        "          + str(minmag)+ \" bis \" +str(maxmag)+ \" gefunden.\")\n",
        "    print(\"Zusammengenommen haben diese Erdbeben eine Energie von etwa \"\n",
        "          + str(\"{:.2E}\".format(energy_joule).replace(\"E\", \"*10^\"))\n",
        "          + \" Joule oder \" + str(round(energy_tnt)) + \" kT (Kilotonnen TNT) freigesetzt.\")\n",
        "\n",
        "    print(cat.__str__(print_all=False))\n",
        "    cat.plot() #projection='global',label=None)\n",
        "  else:\n",
        "    print(\"Bitte wähle eine grössere Magnitude. Die Suche ist sonst zu langsam.\")\n",
        "except:\n",
        "  print(\"Ich habe keine Erdbeben gefunden. Aendere Deine Parameter und versuche es noch einmal.\")"
      ],
      "metadata": {
        "id": "xUPv2ZsafhGH",
        "colab": {
          "base_uri": "https://localhost:8080/"
        },
        "outputId": "47a4b474-54a6-4ed8-ea31-53f5fecb9f45"
      },
      "execution_count": null,
      "outputs": [
        {
          "output_type": "stream",
          "name": "stdout",
          "text": [
            "Ich habe 488 Erdbeben mit einer Magnitude zwischen 5.5 bis 6.5 gefunden.\n",
            "Zusammengenommen haben diese Erdbeben eine Energie von etwa 2.75*10^+16 Joule oder 6570 kT (Kilotonnen TNT) freigesetzt.\n",
            "488 Event(s) in Catalog:\n",
            "2023-12-30T17:16:23.772000Z |  -2.994, +139.369 | 6.3  mww\n",
            "2023-12-30T17:16:23.000000Z |  -3.205, +139.289 | 6.5  Mi\n",
            "...\n",
            "2023-01-01T18:26:42.715000Z | -56.205, -123.434 | 5.8  Mww\n",
            "2023-01-01T18:24:29.837000Z |  -2.526, +140.811 | 5.5  mww\n",
            "To see all events call 'print(CatalogObject.__str__(print_all=True))'\n",
            "Ich habe keine Erdbeben gefunden. Aendere Deine Parameter und versuche es noch einmal.\n"
          ]
        }
      ]
    },
    {
      "cell_type": "markdown",
      "source": [
        "## **Gut zu wissen**\n",
        "\n",
        "*  Die **Magnitude** misst die Stärke eines Erdbebens.\n",
        "\n",
        "*  Kleinere Erdbeben treten viel häufiger auf als grosse, setzen aber deutlich weniger Energie frei. Es wären etwa **3 Millionen Erdbeben** der Magnitude 4 erforderlich, um so viel seismische Energie freizusetzen wie ein einziges Erdbeben der Magnitude 8.\n",
        "\n",
        "*   Um ein Erdbeben mit einer **Magnitude 10** zu erzeugen, bräuchte man eine Verwerfung von über 14.000 km Länge. Das entspricht einem Drittel des Umfanges der gesamten Erde. Ist ein so grosses Erdbeben realistisch?\n",
        "\n",
        "*  Die Erdbeben mit den grössten Magnituden sind nicht unbedingt die verheerendsten, und sie fordern auch nicht unbedingt die meisten Menschenleben. Die **Auswirkungen von einem Erdbeben** sind abhängig von\n",
        "  *   der Erdbebentiefe (flache Erdbeben zerstörerischer als tiefere)\n",
        "  *   den Bodenverhältnissen (weicher Untergrund verstärkt Erdbebenerschütterungen und damit die Zerstörung)\n",
        "  *   der Bevölkerungsdichte und\n",
        "  *   den örtlichen Baustandards."
      ],
      "metadata": {
        "id": "FLqz5mvFeKci"
      }
    },
    {
      "cell_type": "markdown",
      "source": [
        "# **2. Erdbeben in der Schweiz**\n",
        "\n",
        "In der Schweiz erwarten wir grössere Schäden für Erdbeben mit einer Magnitude von 5.5 oder grösser.\n",
        "\n",
        "## **Aufgaben:**\n",
        "*   Wieviele Erdbeben mit einer **Magnitude von 5.5 oder grösser** (*minmag*=5.5) haben sich in der Schweiz **seit dem Jahr 1300** (*start_year*=1300) ereignet?\n",
        "*   **Wie häufig** ereignet sich ein schadensbringendes Erdbeben mit einer Magnitude von 5.5 oder grösser in der Schweiz?\n",
        "\n",
        "  *   etwa jedes Jahr\n",
        "  *   etwa alle 10 Jahre\n",
        "  *   etwa alle 50 Jahre\n",
        "  *   etwa alle 50 bis 150 Jahre\n",
        "\n",
        "\n",
        "*   Wann und wo hat sich das **stärkste Erdbeben in der Schweiz** seit 1300 ereignet?"
      ],
      "metadata": {
        "id": "wHxm0NM18Om5"
      }
    },
    {
      "cell_type": "code",
      "source": [
        "# Diese Parameter kannst Du ändern:\n",
        "minmag      = 5.5\n",
        "start_year  = 1300"
      ],
      "metadata": {
        "id": "l_ndVMUr9ChK"
      },
      "execution_count": null,
      "outputs": []
    },
    {
      "cell_type": "code",
      "source": [
        "# @title\n",
        "# Diesen Code solltest Du nicht verändern:\n",
        "\n",
        "if minmag<5.5 and start_year<2010:\n",
        "  print(\"Bitte wähle eine grössere Magnitude. Die Suche ist sonst zu langsam.\")\n",
        "else:\n",
        "  try:\n",
        "    cat = Client(\"ETH\").get_events(minmag=minmag, minlat=45.75, maxlat=47.7, minlon=6, maxlon=10.3,\n",
        "                                   starttime=obspy.UTCDateTime(str(start_year) + \"-01-01T00:00\"))\n",
        "    print(\"Ich habe \" + str(len(cat)) +\" Erdbeben mit einer Magnitude von \" +str(minmag)\n",
        "    + \" oder grösser seit dem Jahr \" +str(start_year) + \" gefunden.\")\n",
        "    fig = plt.figure()\n",
        "    ax = fig.add_subplot(1,1,1)\n",
        "    ax.xaxis_date()\n",
        "    for idx, event in enumerate(cat):\n",
        "      otime = event.preferred_origin().time\n",
        "      mag  = event.preferred_magnitude().mag\n",
        "      plt.xlabel('Jahr')\n",
        "      plt.ylabel('Magnitude')\n",
        "      plt.plot(otime,mag,'ko')\n",
        "      plt.grid(True)\n",
        "      fig.autofmt_xdate()\n",
        "    fig.set_figheight(5)\n",
        "    fig.set_figwidth(12)\n",
        "    if len(cat)<20:\n",
        "      cat.plot(projection='local',label='magnitude')\n",
        "    print(cat.__str__(print_all=True))\n",
        "  except:\n",
        "    print(\"Ich habe keine Erdbeben gefunden. Aendere Deine Parameter und versuche es noch einmal.\")"
      ],
      "metadata": {
        "id": "IznQH3J4Mc56",
        "colab": {
          "base_uri": "https://localhost:8080/",
          "height": 470
        },
        "outputId": "8fa4bdec-005b-4837-b107-71b7e22c7377",
        "cellView": "form"
      },
      "execution_count": null,
      "outputs": [
        {
          "output_type": "stream",
          "name": "stdout",
          "text": [
            "Ich habe 12 Erdbeben mit einer Magnitude von 5.5 oder grösser seit dem Jahr 1300 gefunden.\n",
            "Ich habe keine Erdbeben gefunden. Aendere Deine Parameter und versuche es noch einmal.\n"
          ]
        },
        {
          "output_type": "display_data",
          "data": {
            "text/plain": [
              "<Figure size 1200x500 with 1 Axes>"
            ],
            "image/png": "[encoded data removed]"
          },
          "metadata": {}
        }
      ]
    },
    {
      "cell_type": "markdown",
      "source": [
        "## **Gut zu wissen**\n",
        "\n",
        "*   Erdbeben können in der Schweiz **überall und jederzeit** auftreten.\n",
        "\n",
        "*   Die meisten Erdbeben gibt es im **Wallis, Basel, Graubünden** und in der **Zentralschweiz**.\n",
        "\n",
        "*   Erdbeben können **nicht vorhergesagt werden**, aber wir können berechnen, mit welcher **Wahrscheinlichkeit** bestimmte Bodenbeschleunigungen an einem Ort innerhalb eines bestimmten Zeitraumes überschritten werden. Daraus können sogenannte **seismische Gefährdungskarten** berechnet werden. [Hier](http://map.seismo.ethz.ch/map-apps/map-seismo/index.html?config=startpage_ch_de.json&availableLayers=std,osm,watermarks,cities_ch,osm_places,eq_ch_90d_de,eq_ch_2002_de,eq_ch_felt_2002_de,eq_int_ch_i6_de,eq_ch_de,expl_ch_90d_de,expl_ch_de,broadband_de,accelerometers_de,shortperiod_de,hazard_5hz_475yr_de,erm_ch23_risk_de,erm_ch23_exposure_de,erm_ch23_amplification_de,tectonic_ch_de&defaultLayers=std,watermarks,cities_ch,hazard_5hz_475yr_de&extent=456000,29258,871625,356333) kannst Du mehr über die Erdbebengefährdung in der Schweiz erfahren.\n",
        "\n",
        "*   Verglichen zu anderen Ländern ist die seismische Gefährdung in der Schweiz **moderat**, also mittelmässig.\n",
        "\n",
        "*   Die **Erdbebenrisikokarte** basiert auf einem Index, der die zu erwartende Anzahl Todesopfer mit den geschätzten finanziellen Verlusten aufgrund von Gebäudeschäden kombiniert. [Hier](http://map.seismo.ethz.ch/map-apps/map-seismo/index.html?config=startpage_ch_de.json&availableLayers=std,osm,watermarks,cities_ch,osm_places,eq_ch_90d_de,eq_ch_2002_de,eq_ch_felt_2002_de,eq_int_ch_i6_de,eq_ch_de,expl_ch_90d_de,expl_ch_de,broadband_de,accelerometers_de,shortperiod_de,hazard_5hz_475yr_de,erm_ch23_risk_de,erm_ch23_exposure_de,erm_ch23_amplification_de,tectonic_ch_de&defaultLayers=std,watermarks,cities_ch,erm_ch23_risk_de&extent=456000,29258,871625,356333) kannst Du mehr zum Erdbebenrisiko in der Schweiz erfahren.\n",
        "\n"
      ],
      "metadata": {
        "id": "kVhh1P7x7K7z"
      }
    }
  ],
  "metadata": {
    "colab": {
      "provenance": []
    },
    "kernelspec": {
      "display_name": "Python 3",
      "name": "python3"
    },
    "language_info": {
      "name": "python"
    }
  },
  "nbformat": 4,
  "nbformat_minor": 0
}