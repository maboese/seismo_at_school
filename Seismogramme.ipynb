{
  "nbformat": 4,
  "nbformat_minor": 0,
  "metadata": {
    "colab": {
      "provenance": []
    },
    "kernelspec": {
      "name": "python3",
      "display_name": "Python 3"
    },
    "language_info": {
      "name": "python"
    }
  },
  "cells": [
    {
      "cell_type": "markdown",
      "source": [
        "# **SEISMOGRAMME (WELLENFORMEN)**\n",
        "Willkommen zum Jupyter-Notebook \"*Seismogramme (Wellenformen)*\" welches im Rahmen des *seismo-at-school* Projektes am Schweizerischen Erdbebendienst ([SED](http://seismo.ethz.ch/de/home/)) an der ETH Zürich in Zusammenarbeit mit der Universität Lausanne und dem Centre Pédagogique Prévention Séisme (CPPS) in Sion entwickelt wurde.\n",
        "\n",
        "Mit Hilfe dieses Notebooks kannst Du leicht auf die RaspberryShake Schulsensoren in der Schweiz zugreifen und in Form von Seismogrammen darstellen. Du kannst entweder einzelne Parameter ändern (z.B. das Erdbeben oder den RaspberryShake wählen, die Dich interessieren) oder, falls Du schon etwas Python programmieren kannst, den Code selbst verändern. Die einzelnen Code-Blöcke unten können schrittweise ausgeführt werden, um besser zu verstehen, was der Code jeweils tut.\n",
        "\n",
        "Viel Vergnügen!\n",
        "\n",
        "\n",
        "---\n",
        "\n",
        "Um den nachfolgenden Python-Code auszuführen, gehe auf die Menuleiste oben und klicke unter Menupunkt **Run** auf **Run all Cells**.\n",
        "\n",
        "Du solltest nach etwa einer Minute unten Ergebnisse sehen. Wenn Du willst, kannst Du einzelne Parameter, wie zum Beispiel die minimale Magnitude, ändern und den Code erneut ausführen. **Klicke dazu auf die jeweilige Zelle und dann den Pfeil im Menu oben.**\n",
        "\n",
        "\n"
      ],
      "metadata": {
        "id": "C0WkSqf7ypHR"
      }
    },
    {
      "cell_type": "code",
      "source": [
        "# @title\n",
        "# Diesen Code solltest Du nicht verändern, ausser wenn Du schon etwas programmieren kannst:\n",
        "\n",
        "\n",
        "import warnings\n",
        "warnings.filterwarnings(\"ignore\")\n",
        "try:\n",
        "    import obspy\n",
        "except:\n",
        "    !pip install obspy | grep -v 'already satisfied'\n",
        "\n",
        "try:\n",
        "    import cartopy\n",
        "except:\n",
        "    !pip install cartopy | grep -v 'already satisfied'\n",
        "\n",
        "import numpy as np\n",
        "import obspy\n",
        "from obspy.clients.fdsn import Client\n",
        "from obspy.core import UTCDateTime, Stream, Trace, Stats\n",
        "from obspy.taup import TauPyModel\n",
        "from obspy.geodetics import gps2dist_azimuth\n",
        "import matplotlib.pyplot as plt\n",
        "from matplotlib.transforms import blended_transform_factory\n",
        "model = TauPyModel(model=\"iasp91\") # theoretische Ankunftszeiten von Wellenphasen\n",
        "\n",
        "# SED CH Network:\n",
        "inv_ch = Client(\"ETH\").get_stations(network=\"CH\", station=\"*\", location=\"--\", channel=\"HH*\", level=\"RESP\")\n",
        "inv_ch = inv_ch.select(channel=\"*Z\", station=\"*\", time=obspy.UTCDateTime(\"2050-01-01T01:00:00.000Z\"))\n",
        "\n",
        "# School Network:\n",
        "inv_s = Client(\"ETH\").get_stations(network=\"S\", station=\"*\",location=\"--\", channel=\"EH*\", level=\"RESP\")\n",
        "inv_s = inv_s.select(channel=\"*Z\", station=\"*\", time=obspy.UTCDateTime(\"2050-01-01T01:00:00.000Z\"))\n",
        "\n",
        "print(\"Ich habe \" + str(len(inv_ch[0])) + \" professionelle Breitband-Stationen (SED) und \" + str(len(inv_s[0])) + \" Schul-Stationen in der Schweiz gefunden.\")"
      ],
      "metadata": {
        "id": "pPcO7wtly-Oy",
        "cellView": "form"
      },
      "execution_count": null,
      "outputs": []
    },
    {
      "cell_type": "markdown",
      "source": [
        "\n",
        "**SCHRITT 1: Suche zunächst nach lokalen oder globalen Erdbeben im Erdbeben-Katalog**\n",
        "\n",
        "Je nach Entfernung zwischen dem Erdbeben und der Erdbebenstation unterscheidet man zwischen lokalen und globalen (oder teleseismischen) Erdbeben. Lokale Erdbeben sind bis zu xxx km entfernt, globale Erdbeben haben grössere Entfernungen. Erdbeben in der Schweiz und im grenznahen Ausland sind aus Sicht des schweizerischen Netzwerkes lokal (*type*= \"local\"), alle anderen Erdbeben regional oder global (*type*= \"global\"). Selbst Erdbeben in sehr grossen Entfernungen, z.B. in Japan, können in Schweiz gemessen werden, wenn sie stark genug sind.\n",
        "\n",
        "Wie unterscheiden sich die Seismogramme von einem nahen Beben, beispielsweise in der Schweiz (*type*= \"local\"), und von einem weit entfernten Beben irgendwo anders auf der Welt (*type*= \"global\")? Suche zunächst nach einem geeigneten Erdbeben. Wähle dazu im Feld unten ein beliebiges Jahr (*year*) und eine minimale und maximale Magnitude (*minmag* und *maxmag*) für Deine Erdbebensuche aus. Entferne einfach \"#\" am Anfang der Zeile unten, um den Parameter zu aktivieren.\n",
        "\n"
      ],
      "metadata": {
        "id": "E9a3s1r2zL6t"
      }
    },
    {
      "cell_type": "code",
      "source": [
        "# Diese Parameter kannst Du ändern:\n",
        "# Entferne \"#\" am Zeilenanfang, um den jeweiligen Parameter zu aktivieren.\n",
        "\n",
        "# 1. Suche nach lokalen Erdeben in der Schweiz:\n",
        "#type = \"local\"  # type = \"local\"\n",
        "#year   = 2024   # Wähle ein beliebiges Jahr für Deine Erdbeben-Suche (z.B. year = 2024)\n",
        "#minmag = 2.5    # Wähle die kleinste Magnitude für Deine Erdbeben-Suche (z.B. minmag = 2.5)\n",
        "#maxmag = 6.0    # Wähle die grösste Magnitude für Deine Erdbeben-Suche (z.B. maxmag = 6.0)\n",
        "\n",
        "# 2. Suche nach globalen Erdbeben irgendwo auf der Welt:\n",
        "type = \"global\" # type = \"global\"\n",
        "year   = 2024   # Wähle ein beliebiges Jahr für Deine Erdbeben-Suche (z.B. year = 2024)\n",
        "minmag = 7.0    # Wähle die kleinste Magnitude für Deine Erdbeben-Suche (z.B. minmag = 7.0)\n",
        "maxmag = 8.0    # Wähle die grösste Magnitude für Deine Erdbeben-Suche (z.B. maxmag = 8.0)"
      ],
      "metadata": {
        "id": "Szwi_qCrzCm-"
      },
      "execution_count": 2,
      "outputs": []
    },
    {
      "cell_type": "markdown",
      "source": [
        "Starte nun Deine Katalog-Suche, indem Du den Code in der nächsten Zelle ausführst."
      ],
      "metadata": {
        "id": "5Pli-eq0LYOg"
      }
    },
    {
      "cell_type": "code",
      "source": [
        "# @title\n",
        "# Diesen Code solltest Du nicht verändern, ausser wenn Du schon etwas programmieren kannst:\n",
        "\n",
        "try:\n",
        "  if type==\"global\" and minmag>=1.5 and year>=2023:\n",
        "    cat = Client(\"IRIS\").get_events(minmag=minmag, maxmag=maxmag, starttime=obspy.UTCDateTime(str(year) + \"-01-01T00:00\"), endtime=obspy.UTCDateTime(str(year+1) + \"-01-01T00:00\"))\n",
        "    print(\"Ich habe \" + str(len(cat)) +\" Erdbeben mit einer Magnitude zwischen \" +str(minmag)+ \" bis \" +str(maxmag)+ \" gefunden.\")\n",
        "    print(cat.__str__(print_all=True))\n",
        "  elif type==\"local\" and minmag>=1.0 and year>=2017:\n",
        "    cat = Client(\"ETH\").get_events(minmag=minmag, maxmag=maxmag, starttime=obspy.UTCDateTime(str(year) + \"-01-01T00:00\"), endtime=obspy.UTCDateTime(str(year+1) + \"-01-01T00:00\"))\n",
        "    print(\"Ich habe \" + str(len(cat)) +\" Erdbeben mit einer Magnitude zwischen \" +str(minmag)+ \" bis \" +str(maxmag)+ \" in Jahr \" +str(year)+ \" gefunden.\")\n",
        "    print(cat.__str__(print_all=True))\n",
        "  else:\n",
        "    print(\"Bitte wähle eine grössere Magnitude, damit das Erdbeben in den Seismogrammen gut sichtbar ist.\")\n",
        "except:\n",
        "  print(\"Ich habe keine Erdbeben gefunden. Aendere Deine Parameter und versuche es noch einmal.\")"
      ],
      "metadata": {
        "id": "WvGClakf1Ovt",
        "cellView": "form"
      },
      "execution_count": null,
      "outputs": []
    },
    {
      "cell_type": "markdown",
      "source": [
        "**SCHRITT 2: Wähle ein Erdbeben aus dem obigen Erdbebenkatalog**\n",
        "\n",
        "Wähle nun ein Erdbeben aus Deiner vorherigen Suche aus, indem Du die Herdzeit in der linken Spalte, also die Zeit zu der sich das Erdbeben ereignet hat, von  einem beliebigen Erdbeben und kopiere diese Zeit in die nächste Zelle (z.B. *origin_time*=obspy.UTCDateTime(\"2024-02-27T01:21:42.685602Z\")):"
      ],
      "metadata": {
        "id": "Rmck8dFE2Jhs"
      }
    },
    {
      "cell_type": "code",
      "source": [
        "# Diesen Parameter kannst Du ändern:\n",
        "\n",
        "origin_time=obspy.UTCDateTime(\"2024-04-02T23:58:11.228000Z\") # M7.4  Taiwan\n",
        "\n",
        "#origin_time=obspy.UTCDateTime(\"2024-02-27T01:21:42.685602Z\")  # M3.4 Jura\n",
        "#origin_time=obspy.UTCDateTime(\"2024-04-22T01:35:55.246216Z\") # M3.8\n",
        "#origin_time=obspy.UTCDateTime(\"2017-07-01T08:10:34.076731Z\") # M4.3 Lintal?\n",
        "#origin_time=obspy.UTCDateTime(\"2024-04-17T03:51:14.916189Z\") # M2.9 Mulhouse\n",
        "#origin_time=obspy.UTCDateTime(\"2024-03-27T21:19:37.332000Z\")  # M4.4 Italy\n",
        "#origin_time=obspy.UTCDateTime(\"2024-03-18T15:52:47.694063Z\")  # M3.1 Bosco/Gurin TI\n",
        "#origin_time=obspy.UTCDateTime(\"2024-03-15T05:19:33.541611Z\")  # M2.6 Montreux\n",
        "#origin_time=obspy.UTCDateTime(\"2024-01-01T07:10:09.474000Z\")  # M7.5 Japan\n"
      ],
      "metadata": {
        "id": "KjcRud9R185a"
      },
      "execution_count": 4,
      "outputs": []
    },
    {
      "cell_type": "markdown",
      "source": [
        "Suche nun nach genaueren Informationen zu Deinem gewählten Erdbeben, indem Du in Code in der nächsten Zelle ausführst."
      ],
      "metadata": {
        "id": "_6uH1imYMNFq"
      }
    },
    {
      "cell_type": "code",
      "source": [
        "# @title\n",
        "# Diesen Code solltest Du nicht verändern, ausser wenn Du schon etwas programmieren kannst:\n",
        "\n",
        "try:\n",
        "  if type == \"global\":\n",
        "    cat = Client(\"IRIS\").get_events(minmag=minmag, starttime=obspy.UTCDateTime(origin_time-5), endtime=obspy.UTCDateTime(origin_time+5))\n",
        "  else:\n",
        "    cat = Client(\"ETH\").get_events(minmag=minmag, starttime=obspy.UTCDateTime(origin_time-5), endtime=obspy.UTCDateTime(origin_time+5))\n",
        "  #cat.plot()\n",
        "\n",
        "  eq_lat = cat[0].origins[0].latitude\n",
        "  eq_lon = cat[0].origins[0].longitude\n",
        "  eq_depth = cat[0].origins[0].depth/1000\n",
        "  eq_mag = cat[0].magnitudes[0].mag\n",
        "\n",
        "\n",
        "  print(\"Das Erdbeben ereigenete sich an Länge = \" +str(eq_lat) +\n",
        "        \" Grad und Breite = \" + str(eq_lon) + \" Grad. Es hatte eine Tiefe von \" + str(eq_depth) + \" km und eine Magnitude von \" +str(eq_mag) +\".\")\n",
        "except:\n",
        "  print(\"Ich habe kein Beben finden können. Probiere es nocheinmal mit einer anderen Herdzeit.\")"
      ],
      "metadata": {
        "id": "2K79Vp8P2y6_",
        "cellView": "form"
      },
      "execution_count": null,
      "outputs": []
    },
    {
      "cell_type": "markdown",
      "source": [
        "**SCHRITT 3: Wähle einen RaspberryShake aus und zeige das Seismogramm**\n",
        "\n",
        "Wähle nun aus der Liste unten einen RaspberryShake aus, der Dich interessiert. Entferne dazu einfach \"#\" am Zeilenanfang, z. B. *rs_station* = [\"KSSO\", \"RFE6B\", \"MOUTI\"]. In diesem Beispiel heisst der RaspberryShake innerhalb des SED Netzwerkes \"KSSO\". Auf der RaspberryShake Webpage findest Du diesen Sensor unter dem Namen \"RFE6B\". Die nächste professionelle Breitbandstation im SED Netzwerk heisst \"MOUTI\"."
      ],
      "metadata": {
        "id": "9nQzxxUA7FWj"
      }
    },
    {
      "cell_type": "code",
      "source": [
        "# Diesen Parameter kannst Du ändern:\n",
        "\n",
        "# 3D RaspberryShake Schul-Seismometer in der deutschsprachigen Schweiz:\n",
        "rs_station = [\"KSSO\",\"RFE6B\", \"MOUTI\"]      # KS Solothurn,\n",
        "#rs_station = [\"MNGRZ\",\"R7DBB\", \"ZUR\"]      # MNG Rämibühl,\n",
        "#rs_station = [\"KSZUG\",\"R3BE0\", \"ZUR\"]      # KS Zug,\n",
        "#rs_station = [\"KSCHR\",\"RB22F\", \"PLONS\"]    # Bündner KS Chur,\n",
        "#rs_station = [\"KSRYC\",\"RF726\", \"WILA\"]     # KS Rychenberg Winterthur,\n",
        "#rs_station = [\"KSKNZ\",\"RC23B\", \"ZUR\"]      # KS Küsnacht,\n",
        "#rs_station = [\"KSHOZ\",\"RE5E7\", \"ZUR\"]      # KS Hottingen\tZürich,\n",
        "#rs_station = [\"KSURI\",\"R8F49\", \"MUO\"]      # KS Uri,\n",
        "#rs_station = [\"KSROM\",\"R58D2\", \"WALHA\"]    # KS Romanshorn,\n",
        "#rs_station = [\"KSZOW\",\"RF726\", \"WILA\"]     # KS Zürcher Oberland, Wetzikon,\n",
        "#rs_station = [\"GUSTZ\",\"R4335\", \"ZUR\"]      # Gymnasium Unterstrass,\n",
        "#rs_station = [\"GOBZL\",\"R19BB\", \"BALST\"]    # Gymnasium Oberaargau,\n",
        "#rs_station = [\"GLSTL\",\"RDFB5\", \"MUTEZ\"]    # Gymnasium Liestal,\n",
        "#rs_station = [\"GBIEL\",\"R8C09\"]             # OFFLINE Gymnasium Biel-Seeland\tBiel\n",
        "#rs_station = [\"KSENZ\",\"RD3C4\"]             # OFFLINE Kantonsschule Enge Zürich\n",
        "#rs_station = [\"KSOBW\",\"RDFB5\"]             # OFFLINE Gymnasium Oberwil\n",
        "\n",
        "# ==========================================================\n",
        "# 1D RaspberryShake in der Romandie:\n",
        "#rs_station = [\"ESNYM\",\"R5D35\"]  # OFFLINE ES Nyon-Marens\n",
        "#rs_station = [\"EPSBE\",\"R65E9\"]  # OFFLINE EPS de Begnins – L'Esplanade\n",
        "#rs_station = [\"ESLAS\",\"R8E4D\"]  # OFFLINE ES de La Sarraz et environs\n",
        "#rs_station = [\"EPSGD\",\"R3B57\"]  # EPS Grandson -- NO DATA?\n",
        "#rs_station = [\"ESTSE\",\"R52F7\"]  # OFFLINE ES des Trois-Sapins\n",
        "#rs_station = [\"ESPEC\",\"R46E5\"]  # OFFLINE ES du Pays-d'Enhaut\n",
        "#rs_station = [\"EPSOL\",\"RE4DE\"]  # OFFLINE EPS Les Ormonts-Leysin\n",
        "#rs_station = [\"EPSVP\",\"RF727\"]  # OFFLINE EPSCL Collège du Verney\n",
        "#rs_station = [\"EPSLE\",\"R5BF0\"]  # OFFLINE Collège/EPS de l'Elysée\n",
        "#rs_station = [\"EPSLB\",\"R0CD2\"]  # OFFLINE EPS Bergières\n",
        "#rs_station = [\"EDILA\",\"RC676\"]  # partner institution (EDI LAUSANNE)\n",
        "#rs_station = [\"CLREN\",\"R3BDC\"]  # OFFLINE Collège du Léman\n",
        "#rs_station = [\"EPSEC\",\"R8710\"]  # OFFLINE EPS Ecublens\n",
        "#rs_station = [\"ESSTI\",\"R1F5E\"]  # OFFLINE ES St-Imier\n",
        "#rs_station = [\"COPCM\",\"RA83F\"]  # OFFLINE CO des Perraires\n",
        "#rs_station = [\"EAMCX\",\"S7A06\"]  # Ecole de l'Arpille\n",
        "#rs_station = [\"COORS\",\"S3900\"]  # CO Orsières\n",
        "#rs_station = [\"COLEY\",\"RA7C7\"]  # CO Leytron\n",
        "#rs_station = [\"COHEU\",\"RB289\"]  # CO Hérens -- NO DATA?\n",
        "#rs_station = [\"COAVI\",\"RA652\"]  # CO d'Anniviers\n",
        "#rs_station = [\"COLSL\",\"RE4EF\"]  # OFFLINE CO des Liddes\n",
        "#rs_station = [\"COAYT\",\"RB15C\"]  # CO Ayent -- NO DATA? -- VERY NOISY!!!\n",
        "#rs_station = [\"COSAV\",\"R2D50\"]  # CO Savièse -- NO DATA?\n",
        "#rs_station = [\"COSTG\",\"R7694\"]  # CO St-Guérin\n",
        "#rs_station = [\"CPPSS\",\"R05D6\"]  # partner institution (SION CPPS HES-SO)"
      ],
      "metadata": {
        "id": "8zyaLGXb7P4h"
      },
      "execution_count": 6,
      "outputs": []
    },
    {
      "cell_type": "markdown",
      "source": [
        "Führe nun den Code in der nächsten Zelle aus, um das Seismogramm darzustellen."
      ],
      "metadata": {
        "id": "Us49f8UPTKwO"
      }
    },
    {
      "cell_type": "code",
      "source": [
        "# @title\n",
        "# Diesen Code solltest Du nicht verändern, ausser wenn Du schon etwas programmieren kannst:\n",
        "\n",
        "domain = \"time\"\n",
        "\n",
        "try:\n",
        "  try:\n",
        "    inv_rs = Client(\"ETH\").get_stations(network=\"S\", station=rs_station[0],\n",
        "                                        location=\"--\", channel=\"EH*\", level=\"RESP\", starttime=origin_time, endtime=origin_time+24*60*60)\n",
        "  except:\n",
        "    inv_rs= Client(\"RASPISHAKE\").get_stations(network=\"AM\", station=rs_station[1],\n",
        "                                        location=\"00\", channel=\"EH*\", level=\"RESP\", starttime=origin_time, endtime=origin_time+24*60*60)\n",
        "  sta_lat = inv_rs[0][0].latitude\n",
        "  sta_lon = inv_rs[0][0].longitude\n",
        "\n",
        "  epi_dist = gps2dist_azimuth(eq_lat, eq_lon, sta_lat, sta_lon)[0]/1000\n",
        "  if epi_dist <=110:\n",
        "    phase_arrivals = model.get_travel_times(source_depth_in_km=max([1.0, eq_depth]),\n",
        "                                          distance_in_degree=epi_dist/111.111,phase_list=[\"p\",\"s\"])\n",
        "    p_arr = phase_arrivals[0].time\n",
        "    s_arr = phase_arrivals[1].time\n",
        "  elif not model.get_travel_times(source_depth_in_km=max([1.0, eq_depth]),\n",
        "                                          distance_in_degree=epi_dist/111.111,phase_list=[\"P\"]) == []:\n",
        "    phase_arrivals = model.get_travel_times(source_depth_in_km=max([1.0, eq_depth]),\n",
        "                                          distance_in_degree=epi_dist/111.111,phase_list=[\"P\"])\n",
        "\n",
        "    p_arr = phase_arrivals[0].time\n",
        "    phase_arrivals = model.get_travel_times(source_depth_in_km=max([1.0, eq_depth]),\n",
        "                                          distance_in_degree=epi_dist/111.111,phase_list=[\"S\"])\n",
        "    s_arr = phase_arrivals[0].time\n",
        "  else:\n",
        "    phase_arrivals = model.get_travel_times(source_depth_in_km=max([1.0, eq_depth]),\n",
        "                                          distance_in_degree=epi_dist/111.111)\n",
        "    p_arr = phase_arrivals[0].time\n",
        "    s_arr = []\n",
        "\n",
        "\n",
        "  if epi_dist >= 9000:\n",
        "    eq_type = \"teleseismic\"\n",
        "    freqmin = 0.1\n",
        "    freqmax = 0.8\n",
        "    timewindow_start = origin_time + phase_arrivals[0].time - 15 * 60\n",
        "    timewindow_end = origin_time + phase_arrivals[0].time + 60 * 60\n",
        "  elif epi_dist >= 600:\n",
        "    eq_type = \"regional\"\n",
        "    freqmin = 0.7\n",
        "    freqmax = 2.0\n",
        "    timewindow_start = origin_time + phase_arrivals[0].time - 0.5 * 60\n",
        "    timewindow_end = origin_time + phase_arrivals[0].time + 5 * 60\n",
        "  elif epi_dist >= 100:\n",
        "    eq_type = \"local\"\n",
        "    freqmin = 3.0\n",
        "    freqmax = 8.0\n",
        "    timewindow_start = origin_time\n",
        "    timewindow_end = origin_time + 1 * 120\n",
        "  else:\n",
        "    eq_type = \"hyperlocal\"\n",
        "    freqmin = 3.0\n",
        "    freqmax = 20.0\n",
        "    timewindow_start = origin_time\n",
        "    timewindow_end = origin_time + 1 * 80\n",
        "\n",
        "\n",
        "  print(rs_station[0] + \" ist \" + str(round(epi_dist*10)/10) + \" km von dem Erdbeben entfernt.\")\n",
        "\n",
        "  try:\n",
        "    stream = Client(\"ETH\").get_waveforms(network=\"S\", station=rs_station[0], location=\"--\", channel=\"EH*\", starttime=timewindow_start - 60, endtime=timewindow_end + 60, attach_response=True)\n",
        "  except:\n",
        "    stream = Client(\"RASPISHAKE\").get_waveforms(network=\"AM\", station=rs_station[1], location=\"00\", channel=\"EH*\", starttime=timewindow_start - 60, endtime=timewindow_end + 60, attach_response=True)\n",
        "  stream.merge(method=0, fill_value='interpolate')\n",
        "  stream.detrend()\n",
        "  if domain == \"time\":\n",
        "    stream.filter('bandpass',freqmin=freqmin, freqmax=freqmax, corners=4, zerophase=True)\n",
        "  stream.remove_response(output='VEL')\n",
        "  stream.trim(starttime = timewindow_start, endtime = timewindow_end)\n",
        "\n",
        "  fig = plt.figure()\n",
        "  for idx, trace in enumerate(stream):\n",
        "    if trace.stats.channel == \"EHZ\":\n",
        "      ax = fig.add_subplot(len(stream),1,1)\n",
        "      plt.title(\"S.\" + rs_station[0] + \", \" + str(cat[0].origins[0].time))\n",
        "    elif trace.stats.channel == \"EHN\":\n",
        "      ax = fig.add_subplot(len(stream),1,2)\n",
        "    else:\n",
        "      ax = fig.add_subplot(len(stream),1,3)\n",
        "    if domain == \"time\":\n",
        "      ax.xaxis_date()\n",
        "      ax.plot(trace.times(\"matplotlib\"), trace.data, \"k-\", linewidth = 1, label = trace.stats.channel)\n",
        "      plt.bar(origin_time + p_arr, height =  2 * np.abs(trace.max()), bottom = -np.abs(trace.max()), width = (timewindow_end-timewindow_start)/200, align = \"center\", color = \"r\")\n",
        "      if not s_arr == []:\n",
        "        plt.bar(origin_time + s_arr, height = 2 * np.abs(trace.max()), bottom = -np.abs(trace.max()), width = (timewindow_end-timewindow_start)/200, align = \"center\", color = \"b\")\n",
        "      plt.xlim(timewindow_start, timewindow_end)\n",
        "      plt.xlabel('Zeit (UTC)')\n",
        "      plt.ylabel('m/s')\n",
        "      plt.legend()\n",
        "    else:\n",
        "      ax.specgram(trace.data, NFFT = 1024)\n",
        "      #plt.yscale('log')\n",
        "    fig.autofmt_xdate()\n",
        "\n",
        "  fig.set_figheight(5)\n",
        "  fig.set_figwidth(15)\n",
        "\n",
        "  print(\"Die ersten Erdbebenwellen (Kompressionswellen) erreichen die Station nach \" + str(round(p_arr*10)/10) + \" Sekunden (roter Strich).\")\n",
        "  print(\"Der blaue Strich zeigt die Ankunftszeit der langsameren S-Wellen (Scherwellen) nach \"+ str(round(s_arr*10)/10) + \" Sekunden\")\n",
        "  print(\"Falls Du keine Einsätze siehst, sind die Erschütterungen an Deiner Station vermutlich zu gering. Versuche es noch einmal mit einem stärkeren oder näheren Erdbeben.\")\n",
        "  print(\"Die Daten sind von \" +str(freqmin) + \" Hertz (Hz) bis \" +str(freqmax) + \" Hertz (Hz) gefiltert.\")\n",
        "\n",
        "except:\n",
        "  print(\" \")\n",
        "  print(\"Ich habe keine Daten für \" + rs_station[0] + \" gefunden. Versuche es noch einmal.\")"
      ],
      "metadata": {
        "id": "qhkkJSd_78X1",
        "cellView": "form"
      },
      "execution_count": null,
      "outputs": []
    },
    {
      "cell_type": "markdown",
      "source": [
        "Vergleiche nun das Seismogramm von Deinem gewählten RaspberryShake mit dem an der nächsten Breitband-Station im  [Schweizerischen Erdbeben-Messnetz](http://www.seismo.ethz.ch/de/earthquakes/monitoring/national-seismic-network/overview/) des SED, indem Du den Code in der nächsten Zelle ausführst."
      ],
      "metadata": {
        "id": "9jkx87gOvirG"
      }
    },
    {
      "cell_type": "code",
      "source": [
        "# @title\n",
        "# Diesen Code solltest Du nicht verändern, ausser wenn Du schon etwas programmieren kannst:\n",
        "\n",
        "ch_dist = []\n",
        "if len(rs_station)<3:\n",
        "  for idx,sta in enumerate(inv_ch[0]):\n",
        "    sta_ch_lat = sta.latitude\n",
        "    sta_ch_lon = sta.longitude\n",
        "    ch_dist.append(gps2dist_azimuth(sta_ch_lat, sta_ch_lon, sta_lat, sta_lon)[0]/1000)\n",
        "  nearest_sta = inv_ch[0][np.argmin(ch_dist)].code\n",
        "  sta_ch_lat = inv_ch[0][np.argmin(ch_dist)].latitude\n",
        "  sta_ch_lon = inv_ch[0][np.argmin(ch_dist)].longitude\n",
        "else:\n",
        "   nearest_sta = rs_station[2]\n",
        "   inv = Client(\"ETH\").get_stations(network=\"CH\", station=rs_station[2],\n",
        "                                        location=\"--\", channel=\"HH*\", level=\"RESP\", starttime=origin_time, endtime=origin_time+24*60*60)\n",
        "   sta_ch_lat = inv[0][0].latitude\n",
        "   sta_ch_lon = inv[0][0].longitude\n",
        "   ch_dist.append(gps2dist_azimuth(sta_ch_lat, sta_ch_lon, sta_lat, sta_lon)[0]/1000)\n",
        "\n",
        "\n",
        "epi_dist_ch = (gps2dist_azimuth(eq_lat, eq_lon, sta_ch_lat, sta_ch_lon)[0]/1000)\n",
        "\n",
        "\n",
        "if epi_dist_ch <=110:\n",
        "  phase_arrivals = model.get_travel_times(source_depth_in_km=max([1.0, eq_depth]),\n",
        "                                        distance_in_degree=epi_dist_ch/111.111,phase_list=[\"p\",\"s\"])\n",
        "  p_arr = phase_arrivals[0].time\n",
        "  s_arr = phase_arrivals[1].time\n",
        "elif not model.get_travel_times(source_depth_in_km=max([1.0, eq_depth]),\n",
        "                                          distance_in_degree=epi_dist_ch/111.111,phase_list=[\"P\"]) == []:\n",
        "  phase_arrivals = model.get_travel_times(source_depth_in_km=max([1.0, eq_depth]),\n",
        "                                        distance_in_degree=epi_dist_ch/111.111,phase_list=[\"P\"])\n",
        "  p_arr = phase_arrivals[0].time\n",
        "  phase_arrivals = model.get_travel_times(source_depth_in_km=max([1.0, eq_depth]),\n",
        "                                        distance_in_degree=epi_dist_ch/111.111,phase_list=[\"S\"])\n",
        "  s_arr = phase_arrivals[0].time\n",
        "\n",
        "else:\n",
        "  phase_arrivals = model.get_travel_times(source_depth_in_km=max([1.0, eq_depth]),\n",
        "                                        distance_in_degree=epi_dist_ch/111.111)\n",
        "  p_arr = phase_arrivals[0].time\n",
        "  s_arr = []\n",
        "\n",
        "\n",
        "print(\"Die nächste Breitband-Station ist CH.\" + nearest_sta + \". Sie ist \" +str(round(min(ch_dist)*10)/10) + \" km von \" + rs_station[0] + \" entfernt.\")\n",
        "\n",
        "try:\n",
        "  stream = Client(\"ETH\").get_waveforms(network=\"CH\", station=nearest_sta, location=\"--\", channel=\"HH*\", starttime = timewindow_start - 60, endtime = timewindow_end + 60, attach_response = True)\n",
        "  stream.merge(method=0, fill_value='interpolate')\n",
        "  stream.detrend()\n",
        "  stream.filter('bandpass',freqmin=freqmin, freqmax=freqmax, corners=4, zerophase=True)\n",
        "  stream.remove_response(output='VEL', taper = True)\n",
        "  stream.trim(starttime = timewindow_start, endtime = timewindow_end)\n",
        "\n",
        "  fig = plt.figure()\n",
        "  for idx, trace in enumerate(stream):\n",
        "    if trace.stats.channel == \"HHZ\":\n",
        "      ax = fig.add_subplot(len(stream),1,1)\n",
        "      plt.title(\"CH.\" + nearest_sta+ \", \" + str(cat[0].origins[0].time))\n",
        "    elif trace.stats.channel == \"HHN\":\n",
        "      ax = fig.add_subplot(len(stream),1,2)\n",
        "    else:\n",
        "      ax = fig.add_subplot(len(stream),1,3)\n",
        "    ax.xaxis_date()\n",
        "    ax.plot(trace.times(\"matplotlib\"), trace.data, \"k-\", linewidth = 1, label = trace.stats.channel)\n",
        "    plt.bar(origin_time + p_arr, height =  2 * np.abs(trace.max()), bottom = -np.abs(trace.max()), width = (timewindow_end-timewindow_start)/200, align = \"center\", color = \"r\")\n",
        "    if not s_arr == []:\n",
        "      plt.bar(origin_time + s_arr, height = 2 * np.abs(trace.max()), bottom = -np.abs(trace.max()), width = (timewindow_end-timewindow_start)/200, align = \"center\", color = \"b\")\n",
        "    plt.xlim(timewindow_start, timewindow_end)\n",
        "    plt.xlabel('Zeit (UTC)')\n",
        "    plt.ylabel('m/s')\n",
        "    plt.legend()\n",
        "    fig.autofmt_xdate()\n",
        "    fig.set_figheight(5)\n",
        "    fig.set_figwidth(15)\n",
        "except:\n",
        "  print(\"Ich haben leider keine Daten gefunden. Aendere die Parameter und versuche es noch einmal.\")"
      ],
      "metadata": {
        "id": "Ls8EIhypvnPY",
        "collapsed": true,
        "cellView": "form"
      },
      "execution_count": null,
      "outputs": []
    },
    {
      "cell_type": "markdown",
      "source": [
        "**SCHRITT 4: Wellenweg durch die Erde**\n",
        "\n",
        "Führe den Code in der nächsten Zelle aus, um zu sehen, welchen Weg die schnellsten Erdbebenwellen, die P-Wellen, durch die Erde vom Erdbeben (Stern) bis zu Deinem RaspberryShake (Dreieck) zurückgelegt haben."
      ],
      "metadata": {
        "id": "r0l7rm7Vy458"
      }
    },
    {
      "cell_type": "code",
      "source": [
        "# @title\n",
        "# Diesen Code solltest Du nicht verändern:\n",
        "\n",
        "arrivals = model.get_ray_paths(source_depth_in_km=max([1.0, eq_depth]), distance_in_degree=epi_dist/111.111, phase_list=[phase_arrivals[0].name])\n",
        "if type == \"local\":\n",
        "  ax = arrivals.plot_rays(plot_type=\"cartesian\")\n",
        "else:\n",
        "  ax = arrivals.plot_rays()"
      ],
      "metadata": {
        "id": "UJL9dQXky6P-",
        "cellView": "form"
      },
      "execution_count": null,
      "outputs": []
    },
    {
      "cell_type": "markdown",
      "source": [
        "Es gibt aber auch andere Erdbebenwellen (sogenannte *seismische Phasen*), die sich durch andere Erdschichten ausbreiten und Deine Station später erreicht haben. Durch das Picken verschiedener Phasen für viele Erdbeben können Seismologen und Seismologinnen die Geschwindigkeiten verschiedener Gesteinsschichten und den Aufbau der Erde bestimmen. Führe den Code in der nächsten Zelle aus, um die Ausbreitungswege weiterer seismischer Phasen darzustellen."
      ],
      "metadata": {
        "id": "P69yjCGUzIJA"
      }
    },
    {
      "cell_type": "code",
      "source": [
        "# @title\n",
        "# Diesen Code solltest Du nicht verändern:\n",
        "\n",
        "arrivals = model.get_ray_paths(source_depth_in_km=max([1.0, eq_depth]), distance_in_degree=epi_dist/111.111, phase_list=[\"ttbasic\"])\n",
        "if type == \"local\":\n",
        "  ax = arrivals.plot_rays(plot_type=\"cartesian\")\n",
        "else:\n",
        "  ax = arrivals.plot_rays()\n",
        "print(arrivals)"
      ],
      "metadata": {
        "id": "3n_Se1D1zPxh",
        "cellView": "form"
      },
      "execution_count": null,
      "outputs": []
    },
    {
      "cell_type": "markdown",
      "source": [
        "**SCHRITT 5: Seismogramme von allen Schul-Seismometern**\n",
        "\n",
        "Führe den Code in der nächsten Zelle aus, um die Seismogramme von allen seismo-at-school RaspberryShake in der Schweiz zu laden und darzustellen."
      ],
      "metadata": {
        "id": "naGXLuag5USQ"
      }
    },
    {
      "cell_type": "code",
      "source": [
        "# @title\n",
        "# Diesen Code solltest Du nicht verändern, ausser wenn Du schon etwas programmieren kannst:\n",
        "\n",
        "vp = 5.8 # km/s P-wave velocity\n",
        "vs = 3.4 # km/s S-wave velocity\n",
        "\n",
        "try:\n",
        "  for network in [\"S\"]:\n",
        "    if network == \"CH\":\n",
        "      inventory = inv_ch\n",
        "    else:\n",
        "      inventory = inv_s\n",
        "    stream = Stream()\n",
        "    distance = []\n",
        "    name = []\n",
        "    for idx, inv in enumerate(inventory[0]):\n",
        "      try:\n",
        "        station = inv.code\n",
        "        trace = Client(\"ETH\").get_waveforms(network=network, station=station, location=\"--\", channel=\"*Z\", starttime=origin_time -60, endtime=timewindow_end +60, attach_response=True)\n",
        "        trace.merge()\n",
        "        distance.append(gps2dist_azimuth(inv.latitude, inv.longitude, eq_lat, eq_lon)[0])\n",
        "        name.append(station)\n",
        "        stream += trace\n",
        "      except:\n",
        "        print(\"Ich habe keine Seismogramme für \" +str(station) + \" gefunden.\")\n",
        "\n",
        "    stream.remove_response(output='VEL')\n",
        "    stream.filter('bandpass',freqmin=freqmin, freqmax=freqmax, corners=4, zerophase=True)\n",
        "    stream.trim(starttime = origin_time, endtime = timewindow_end)\n",
        "\n",
        "    for idx, trace in enumerate(stream):\n",
        "      trace.stats.distance = distance[idx]\n",
        "      trace.stats.station = name[idx]\n",
        "\n",
        "    fig = plt.figure()\n",
        "    stream.plot(type='section', orientation='horizontal', right_vertical_labels=True, linewidth=.75, grid_linewidth=.5, scale=0.75, show=True, fig=fig,\n",
        "                localization_dict={'Time [s]': 'Zeit [s]', 'Offset [km]': 'Entfernung [km]'})\n",
        "    fig.set_figheight(10)\n",
        "    fig.set_figwidth(15)\n",
        "    plt.title(str(cat[0].origins[0].time))\n",
        "\n",
        "    if min(distance)/1000 < 150:\n",
        "      time_axis = np.arange(0, int(timewindow_end-origin_time), 1)\n",
        "      plt.plot(time_axis,np.sqrt(pow(time_axis * vp,2)-pow(eq_depth,2)),'r') # P-wave\n",
        "      plt.plot(time_axis,np.sqrt(pow(time_axis * vs,2)-pow(eq_depth,2)),'b') # S-wave\n",
        "      plt.ylim(0,max(distance) /1000 * 1.25)\n",
        "    else:\n",
        "      dist_axis = np.arange(int(min(distance)/1000-50), int(max(distance)/1000+50), 50)\n",
        "      p_arr = []\n",
        "      s_arr = []\n",
        "\n",
        "      for dist in dist_axis:\n",
        "        if not model.get_travel_times(source_depth_in_km=max([1.0, eq_depth]),\n",
        "                                          distance_in_degree=dist/111.111,phase_list=[\"P\"]) == []:\n",
        "          phase_arrivals = model.get_travel_times(source_depth_in_km=max([1.0, eq_depth]),\n",
        "                                          distance_in_degree=dist/111.111,phase_list=[\"P\"])\n",
        "          p_arr.append([phase_arrivals[0].time, dist])\n",
        "          phase_arrivals = model.get_travel_times(source_depth_in_km=max([1.0, eq_depth]),\n",
        "                                          distance_in_degree=dist/111.111,phase_list=[\"S\"])\n",
        "          s_arr.append([phase_arrivals[0].time, dist])\n",
        "        else:\n",
        "          phase_arrivals = model.get_travel_times(source_depth_in_km=max([1.0, eq_depth]),\n",
        "                                         distance_in_degree=dist/111.111)\n",
        "          p_arr.append([phase_arrivals[0].time, dist])\n",
        "          s_arr.append([[], dist])\n",
        "\n",
        "      plt.plot(np.array(p_arr)[:,0],np.array(p_arr)[:,1],'r--') # P-wave\n",
        "      if not np.array(s_arr)[0,0] == []:\n",
        "        plt.plot(np.array(s_arr)[:,0],np.array(s_arr)[:,1],'b--') # S-wave\n",
        "\n",
        "    for idx, trace in enumerate(stream):\n",
        "      plt.text((timewindow_end - origin_time)+1, trace.stats.distance /1000, str(trace.stats.station))\n",
        "\n",
        "\n",
        "except:\n",
        "  print(\"Ich habe leider keine Daten gefunden.\")"
      ],
      "metadata": {
        "id": "ksapkfuD6ABF",
        "cellView": "form"
      },
      "execution_count": null,
      "outputs": []
    },
    {
      "cell_type": "markdown",
      "source": [
        "Führe den Code in der nächsten Zelle aus, um eine Karte mit allen Schul-Seismometern in der Schweiz zu sehen."
      ],
      "metadata": {
        "id": "pP7h6Z6L6gAU"
      }
    },
    {
      "cell_type": "code",
      "source": [
        "# @title\n",
        "# Diesen Code solltest Du nicht verändern, ausser wenn Du schon etwas programmieren kannst:\n",
        "\n",
        "fig = plt.figure()\n",
        "inv_s.plot(projection=\"local\", resolution=\"f\", show=True, size=13)\n",
        "fig.set_figheight(100)\n",
        "fig.set_figwidth(150)\n",
        "plt.show()\n",
        "print(inv_s[0])"
      ],
      "metadata": {
        "id": "QNhfmglpFstV",
        "cellView": "form"
      },
      "execution_count": null,
      "outputs": []
    },
    {
      "cell_type": "markdown",
      "source": [
        "**SCHRITT 6: 24-Stunden-Seismogramm (Heliplot)**\n",
        "\n",
        "Du kannst Dir auch ein 24-Stunden-Seismogramm für einen RaspberryShake anschauen. Wähle zunächst ein Datum  (z.B. start_day = obspy.UTCDateTime(\"2024-04-20T00:00:00.000Z\"), und einen RaspberryShake (z.B. rs_station = [\"KSSO\",\"RFE6B\", \"MOUTI\"]).  "
      ],
      "metadata": {
        "id": "M2DjfjCl17Be"
      }
    },
    {
      "cell_type": "code",
      "source": [
        "# Diesen Parameter kannst Du ändern:\n",
        "\n",
        "start_day = UTCDateTime(origin_time._get_date())\n",
        "#start_day = obspy.UTCDateTime(\"2024-04-20T00:00:00.000Z\")\n",
        "\n",
        "# 3D RaspberryShake Schul-Seismometer in der deutschsprachigen Schweiz:\n",
        "rs_station = [\"KSSO\",\"RFE6B\", \"MOUTI\"]      # KS Solothurn,\n",
        "#rs_station = [\"MNGRZ\",\"R7DBB\", \"ZUR\"]      # MNG Rämibühl,\n",
        "#rs_station = [\"KSZUG\",\"R3BE0\", \"ZUR\"]      # KS Zug,\n",
        "#rs_station = [\"KSCHR\",\"RB22F\", \"PLONS\"]    # Bündner KS Chur,\n",
        "#rs_station = [\"KSRYC\",\"RF726\", \"WILA\"]     # KS Rychenberg Winterthur,\n",
        "#rs_station = [\"KSKNZ\",\"RC23B\", \"ZUR\"]      # KS Küsnacht,\n",
        "#rs_station = [\"KSHOZ\",\"RE5E7\", \"ZUR\"]      # KS Hottingen\tZürich,\n",
        "#rs_station = [\"KSURI\",\"R8F49\", \"MUO\"]      # KS Uri,\n",
        "#rs_station = [\"KSROM\",\"R58D2\", \"WALHA\"]    # KS Romanshorn,\n",
        "#rs_station = [\"KSZOW\",\"RF726\", \"WILA\"]     # KS Zürcher Oberland, Wetzikon,\n",
        "#rs_station = [\"GUSTZ\",\"R4335\", \"ZUR\"]      # Gymnasium Unterstrass,\n",
        "#rs_station = [\"GOBZL\",\"R19BB\", \"BALST\"]    # Gymnasium Oberaargau,\n",
        "#rs_station = [\"GLSTL\",\"RDFB5\", \"MUTEZ\"]    # Gymnasium Liestal,\n",
        "#rs_station = [\"GBIEL\",\"R8C09\"]             # OFFLINE Gymnasium Biel-Seeland\tBiel\n",
        "#rs_station = [\"KSENZ\",\"RD3C4\"]             # OFFLINE Kantonsschule Enge Zürich\n",
        "#rs_station = [\"KSOBW\",\"RDFB5\"]             # OFFLINE Gymnasium Oberwil\n",
        "\n",
        "# ==========================================================\n",
        "# 1D RaspberryShake in der Romandie:\n",
        "#rs_station = [\"ESNYM\",\"R5D35\"]  # OFFLINE ES Nyon-Marens\n",
        "#rs_station = [\"EPSBE\",\"R65E9\"]  # OFFLINE EPS de Begnins – L'Esplanade\n",
        "#rs_station = [\"ESLAS\",\"R8E4D\"]  # OFFLINE ES de La Sarraz et environs\n",
        "#rs_station = [\"EPSGD\",\"R3B57\"]  # EPS Grandson -- NO DATA?\n",
        "#rs_station = [\"ESTSE\",\"R52F7\"]  # OFFLINE ES des Trois-Sapins\n",
        "#rs_station = [\"ESPEC\",\"R46E5\"]  # OFFLINE ES du Pays-d'Enhaut\n",
        "#rs_station = [\"EPSOL\",\"RE4DE\"]  # OFFLINE EPS Les Ormonts-Leysin\n",
        "#rs_station = [\"EPSVP\",\"RF727\"]  # OFFLINE EPSCL Collège du Verney\n",
        "#rs_station = [\"EPSLE\",\"R5BF0\"]  # OFFLINE Collège/EPS de l'Elysée\n",
        "#rs_station = [\"EPSLB\",\"R0CD2\"]  # OFFLINE EPS Bergières\n",
        "#rs_station = [\"EDILA\",\"RC676\"]  # partner institution (EDI LAUSANNE)\n",
        "#rs_station = [\"CLREN\",\"R3BDC\"]  # OFFLINE Collège du Léman\n",
        "#rs_station = [\"EPSEC\",\"R8710\"]  # OFFLINE EPS Ecublens\n",
        "#rs_station = [\"ESSTI\",\"R1F5E\"]  # OFFLINE ES St-Imier\n",
        "#rs_station = [\"COPCM\",\"RA83F\"]  # OFFLINE CO des Perraires\n",
        "#rs_station = [\"EAMCX\",\"S7A06\"]  # Ecole de l'Arpille\n",
        "#rs_station = [\"COORS\",\"S3900\"]  # CO Orsières\n",
        "#rs_station = [\"COLEY\",\"RA7C7\"]  # CO Leytron\n",
        "#rs_station = [\"COHEU\",\"RB289\"]  # CO Hérens -- NO DATA?\n",
        "#rs_station = [\"COAVI\",\"RA652\"]  # CO d'Anniviers\n",
        "#rs_station = [\"COLSL\",\"RE4EF\"]  # OFFLINE CO des Liddes\n",
        "#rs_station = [\"COAYT\",\"RB15C\"]  # CO Ayent -- NO DATA? -- VERY NOISY!!!\n",
        "#rs_station = [\"COSAV\",\"R2D50\"]  # CO Savièse -- NO DATA?\n",
        "#rs_station = [\"COSTG\",\"R7694\"]  # CO St-Guérin\n",
        "#rs_station = [\"CPPSS\",\"R05D6\"]  # partner institution (SION CPPS HES-SO)"
      ],
      "metadata": {
        "id": "Dwf0D9712KkB"
      },
      "execution_count": 14,
      "outputs": []
    },
    {
      "cell_type": "markdown",
      "source": [
        "Führe nun den Code in der nächsten Zelle aus, um das 24-Stunden Seismogramm für den RaspberryShake darzustellen."
      ],
      "metadata": {
        "id": "b45tUwzzTFvg"
      }
    },
    {
      "cell_type": "code",
      "source": [
        "# @title\n",
        "# Diesen Code solltest Du nicht verändern, ausser wenn Du schon etwas programmieren kannst:\n",
        "\n",
        "try:\n",
        "  singlechannel = Client(\"ETH\").get_waveforms(network=\"S\", station=rs_station[0], location=\"--\", channel=\"EHZ\", starttime=start_day, endtime=start_day + 24*60*60, attach_response=True)\n",
        "  #singlechannel = Client(\"ETH\").get_waveforms(network=\"CH\", station=rs_station[0], location=\"--\", channel=\"HHZ\", starttime=start_day, endtime=start_day + 24*60*60, attach_response=True)\n",
        "except:\n",
        "  singlechannel = Client(\"RASPISHAKE\").get_waveforms(network=\"AM\", station=rs_station[1], location=\"00\", channel=\"EHZ\", starttime=start_day, endtime=start_day + 24*60*60, attach_response=True)\n",
        "singlechannel.merge(method=0, fill_value='interpolate')\n",
        "singlechannel.detrend()\n",
        "singlechannel.filter('bandpass',freqmin=freqmin, freqmax=freqmax, corners=4, zerophase=True)\n",
        "#  singlechannel.remove_response(output='VEL')\n",
        "\n",
        "fig = plt.figure()\n",
        "singlechannel[0].plot(type='dayplot', interval=30, timezone='local time', time_offset=1, color='k',fig=fig)\n",
        "fig.set_figheight(15)\n",
        "fig.set_figwidth(15)\n",
        "plt.title(\"S.\" + str(rs_station[0]) + \" AM.\" + str(rs_station[1]) + \", \" + str(start_day))"
      ],
      "metadata": {
        "id": "I_9Jq1Sic7ym",
        "cellView": "form"
      },
      "execution_count": null,
      "outputs": []
    }
  ]
}
