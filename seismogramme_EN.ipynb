{
 "cells": [
  {
   "cell_type": "markdown",
   "metadata": {},
   "source": [
    "# ***seismo-at-school*: RaspberryShake Switzerland - Seismogramme**"
   ]
  },
  {
   "cell_type": "code",
   "execution_count": 1,
   "metadata": {},
   "outputs": [
    {
     "name": "stdout",
     "output_type": "stream",
     "text": [
      "Checking for the required libraries...\n",
      "obspy satisfies the requirements\n",
      "cartopy satisfies the requirements\n",
      "matplotlib satisfies the requirements\n",
      "ipywidgets satisfies the requirements\n",
      "numpy satisfies the requirements\n",
      "All required libraries are installed and imported.\n",
      "- Checking the packages.\n",
      "\tObspy: 1.4.1\n",
      "\tNumpy: 1.26.4\n",
      "\tMatplotlib: 3.9.0\n",
      "\tCartopy: 0.23.0\n",
      "\tIpywidgets: 8.1.3\n",
      "====================\n"
     ]
    },
    {
     "data": {
      "application/vnd.jupyter.widget-view+json": {
       "model_id": "edd083cf3f3b4245abae4f9fe2ece209",
       "version_major": 2,
       "version_minor": 0
      },
      "text/plain": [
       "GridBox(children=(VBox(children=(Dropdown(description='Year', options=('2023', '2024'), value='2023'), Select(…"
      ]
     },
     "metadata": {},
     "output_type": "display_data"
    },
    {
     "data": {
      "application/vnd.jupyter.widget-view+json": {
       "model_id": "d0faab5f4b2d43da9d3bae997269dbe5",
       "version_major": 2,
       "version_minor": 0
      },
      "text/plain": [
       "HBox(children=(Output(),), layout=Layout(width='100%'))"
      ]
     },
     "metadata": {},
     "output_type": "display_data"
    }
   ],
   "source": [
    "# Reset all variables and imports previously defined\n",
    "%reset -f\n",
    "\n",
    "# These lines take care of the initial imports for the libraries \n",
    "# that will be used in the exercise. Always import the codebase \n",
    "# package first to make sure the environment is set up correctly.\n",
    "import codebase\n",
    "# Explicitly import the packages used in the exercise\n",
    "import obspy\n",
    "import numpy as np\n",
    "import matplotlib\n",
    "import cartopy\n",
    "import ipywidgets\n",
    "\n",
    "# Check if the libraries were imported correctly\n",
    "print(f\"- Checking the packages.\")\n",
    "print(f\"\\tObspy: {obspy.__version__}\")\n",
    "print(f\"\\tNumpy: {np.__version__}\")\n",
    "print(f\"\\tMatplotlib: {matplotlib.__version__}\")\n",
    "print(f\"\\tCartopy: {cartopy.__version__}\")\n",
    "print(f\"\\tIpywidgets: {ipywidgets.__version__}\")\n",
    "print(f\"=============================================\")\n",
    "\n",
    "# Create the RaspberryShake object to manage a simple GUI\n",
    "raspberry = codebase.RaspberryShake()\n",
    "raspberry.setup_gui(language='en')\n",
    "raspberry.display()"
   ]
  },
  {
   "cell_type": "code",
   "execution_count": null,
   "metadata": {},
   "outputs": [],
   "source": []
  }
 ],
 "metadata": {
  "kernelspec": {
   "display_name": "seismoatschool",
   "language": "python",
   "name": "python3"
  },
  "language_info": {
   "codemirror_mode": {
    "name": "ipython",
    "version": 3
   },
   "file_extension": ".py",
   "mimetype": "text/x-python",
   "name": "python",
   "nbconvert_exporter": "python",
   "pygments_lexer": "ipython3",
   "version": "3.10.12"
  }
 },
 "nbformat": 4,
 "nbformat_minor": 2
}
