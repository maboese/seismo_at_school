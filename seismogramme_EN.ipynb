{
 "cells": [
  {
   "cell_type": "markdown",
   "metadata": {},
   "source": [
    "# ***seismo-at-school*: RaspberryShake Switzerland - Seismogramme**"
   ]
  },
  {
   "cell_type": "code",
   "execution_count": null,
   "metadata": {},
   "outputs": [],
   "source": [
    "# Reset all variables and imports previously defined\n",
    "%reset -f\n",
    "\n",
    "# These lines take care of the initial imports for the libraries \n",
    "# that will be used in the exercise. Always import the codebase \n",
    "# package first to make sure the environment is set up correctly.\n",
    "import codebase\n",
    "# Explicitly import the packages used in the exercise\n",
    "import obspy\n",
    "import numpy as np\n",
    "import matplotlib\n",
    "import cartopy\n",
    "import ipywidgets\n",
    "\n",
    "# Check if the libraries were imported correctly\n",
    "print(f\"- Checking the packages.\")\n",
    "print(f\"\\tObspy: {obspy.__version__}\")\n",
    "print(f\"\\tNumpy: {np.__version__}\")\n",
    "print(f\"\\tMatplotlib: {matplotlib.__version__}\")\n",
    "print(f\"\\tCartopy: {cartopy.__version__}\")\n",
    "print(f\"\\tIpywidgets: {ipywidgets.__version__}\")\n",
    "print(f\"=============================================\")\n",
    "\n",
    "# Create the RaspberryShake object to manage a simple GUI\n",
    "raspberry = codebase.RaspberryShake()\n",
    "raspberry.setup_gui(language='en')\n"
   ]
  },
  {
   "cell_type": "code",
   "execution_count": null,
   "metadata": {},
   "outputs": [],
   "source": [
    "# Show the GUI. No need to setup the GUI again, in case the display \n",
    "# needs to be refreshed.\n",
    "raspberry.display()"
   ]
  },
  {
   "cell_type": "code",
   "execution_count": null,
   "metadata": {},
   "outputs": [],
   "source": [
    "raspberry.display_map()\n",
    "raspberry.display_seismograms()"
   ]
  }
 ],
 "metadata": {
  "kernelspec": {
   "display_name": "seismoatschool",
   "language": "python",
   "name": "python3"
  },
  "language_info": {
   "codemirror_mode": {
    "name": "ipython",
    "version": 3
   },
   "file_extension": ".py",
   "mimetype": "text/x-python",
   "name": "python",
   "nbconvert_exporter": "python",
   "pygments_lexer": "ipython3",
   "version": "3.10.12"
  }
 },
 "nbformat": 4,
 "nbformat_minor": 2
}
